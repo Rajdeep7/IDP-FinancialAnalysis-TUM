{
 "cells": [
  {
   "cell_type": "markdown",
   "metadata": {},
   "source": [
    "# Robotic Process Automation as tool to collect analysts' reports from the Eikon datastream"
   ]
  },
  {
   "cell_type": "markdown",
   "metadata": {},
   "source": [
    "## 1. Moving the cursor to start the Eikon datasream application"
   ]
  },
  {
   "cell_type": "code",
   "execution_count": null,
   "metadata": {},
   "outputs": [],
   "source": [
    "# importing necessary libraries\n",
    "import pyautogui as pg\n",
    "import pygetwindow as gw"
   ]
  },
  {
   "cell_type": "code",
   "execution_count": null,
   "metadata": {},
   "outputs": [],
   "source": [
    "# move to the specific coordinates of the Eikon search bar\n",
    "pg.moveTo(136,9)\n",
    "# Perform a click on that coordinate\n",
    "pg.click()\n"
   ]
  },
  {
   "cell_type": "markdown",
   "metadata": {},
   "source": [
    "## 2. Open the 'S&P-500/Dow Jones Research News and Research' page"
   ]
  },
  {
   "cell_type": "code",
   "execution_count": null,
   "metadata": {},
   "outputs": [],
   "source": [
    "# Type .spx in the search tab\n",
    "pg.write('.spx research')\n",
    "pg.press(\"enter\")\n",
    "pg.PAUSE=5\n",
    "\n",
    "# maximize the window\n",
    "win = gw.getWindowsWithTitle('S&P 500 Index | Research')[0]\n",
    "win.maximize()"
   ]
  },
  {
   "cell_type": "markdown",
   "metadata": {},
   "source": [
    "## 3. Apply filters "
   ]
  },
  {
   "cell_type": "code",
   "execution_count": null,
   "metadata": {},
   "outputs": [],
   "source": [
    "# Open the 'Research and News' tab\n",
    "pg.moveTo(17,171)\n",
    "pg.click() \n",
    "pg.moveTo(72,225)\n",
    "pg.click()\n",
    "\n",
    "# Apply differnt filters like - comapany name,Number of Days\n",
    "pg.moveTo(70,405)\n",
    "pg.click()\n",
    "pg.moveTo(197,643)\n",
    "pg.click()\n",
    "pg.moveTo(17,171)\n",
    "pg.click()\n",
    "pg.moveTo(17,202)\n",
    "pg.click()\n",
    "pg.moveTo(82,228)\n",
    "pg.click()\n",
    "pg.moveTo(85,230)\n",
    "pg.click()"
   ]
  },
  {
   "cell_type": "markdown",
   "metadata": {},
   "source": [
    "## 4. Start downloading mechanically"
   ]
  },
  {
   "cell_type": "code",
   "execution_count": 1,
   "metadata": {},
   "outputs": [],
   "source": [
    "# initialize the number of scroll downs to refresh the data\n",
    "scroll_down=900\n",
    "\n",
    "# looping through the records to get to the last record \n",
    "while scroll_down>0:  \n",
    "    pg.moveTo(421,426)\n",
    "    pg.scroll(-512)\n",
    "    pg.scroll(+20)\n",
    "    pg.scroll(-20)\n",
    "    j=j-1\n"
   ]
  },
  {
   "cell_type": "code",
   "execution_count": 2,
   "metadata": {},
   "outputs": [],
   "source": [
    "# initialize the number of scroll ups to refresh the data\n",
    "scroll_up=400\n",
    "\n",
    "# looping through the records to get back to the initial record \n",
    "while scroll_up>0:  \n",
    "    pg.moveTo(421,426)\n",
    "    pg.scroll(512)\n",
    "    j=j-1\n",
    "\n"
   ]
  },
  {
   "cell_type": "code",
   "execution_count": null,
   "metadata": {},
   "outputs": [],
   "source": [
    "# initialize with the number of files which you need to download\n",
    "records=2500\n",
    "\n",
    "# Perform number of iterations to reach the last report to be downloaded\n",
    "number_of_iterations=records/17+1\n",
    "\n",
    "# lopping through the number of iterations it needs to downlopad all reports\n",
    "while number_of_iterations>0:\n",
    "    # coordinates of the report header of the first report\n",
    "    init_x = 503 \n",
    "    init_y = 270 \n",
    "    \n",
    "    pg.moveTo(init_x,init_y)\n",
    "    pg.leftClick()\n",
    "    \n",
    "    # coordinates of the download link of the first report\n",
    "    init_down_x=514\n",
    "    init_down_y=298\n",
    "    \n",
    "    pg.moveTo(init_down_x,init_down_y)\n",
    "    pg.leftClick()\n",
    "\n",
    "    # move to the close button and close all the pop ups after downloading a few reports\n",
    "    pg.moveTo(865,565)\n",
    "    pg.leftClick()\n",
    "    pg.leftClick()\n",
    "    pg.leftClick()\n",
    "    pg.leftClick()\n",
    "\n",
    "    # index value which downloads reports in each iteration\n",
    "    i=15\n",
    "\n",
    "    # looping through the rows and downloading the reports in each iteration\n",
    "    while i>0:\n",
    "        # coordinates of the report header of the ith report\n",
    "        init_x=init_down_x-11\n",
    "        init_y=init_down_y+5\n",
    "        pg.moveTo(init_x,init_y)\n",
    "        pg.leftClick()\n",
    "\n",
    "        # coordinates of the download link of the ith report\n",
    "        init_down_x=init_x+11\n",
    "        init_down_y=init_y+27\n",
    "        pg.moveTo(init_down_x,init_down_y)\n",
    "        pg.leftClick()\n",
    "        # move to the close button and close all the pop ups after downloading a few reports\n",
    "        pg.moveTo(865,565)\n",
    "        pg.leftClick()\n",
    "        pg.leftClick()\n",
    "        pg.leftClick()\n",
    "        pg.leftClick()\n",
    "\n",
    "        i=i-1\n",
    "        \n",
    "    # Move to a random coordinate on the window\n",
    "    pg.moveTo(421,426)\n",
    "    \n",
    "    # Perform a scroll to get access to the next set of records to be downloaded\n",
    "    pg.scroll(-512)\n",
    "    number_of_iterations=number_of_iterations-1\n",
    "\n",
    "\n",
    "\n",
    "\n"
   ]
  }
 ],
 "metadata": {
  "kernelspec": {
   "display_name": "Python 3",
   "language": "python",
   "name": "python3"
  },
  "language_info": {
   "codemirror_mode": {
    "name": "ipython",
    "version": 3
   },
   "file_extension": ".py",
   "mimetype": "text/x-python",
   "name": "python",
   "nbconvert_exporter": "python",
   "pygments_lexer": "ipython3",
   "version": "3.8.5"
  }
 },
 "nbformat": 4,
 "nbformat_minor": 2
}
